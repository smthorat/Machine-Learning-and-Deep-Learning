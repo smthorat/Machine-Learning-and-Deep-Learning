{
 "cells": [
  {
   "cell_type": "markdown",
   "id": "b05c990e",
   "metadata": {},
   "source": [
    "# Machine Learning for Cancer Prediction "
   ]
  },
  {
   "cell_type": "markdown",
   "id": "5d7202fe",
   "metadata": {},
   "source": [
    "## Required Libraries\n",
    " - numpy\n",
    " - matplotlib\n",
    " - seaborn\n",
    " - pandas\n",
    " - scikit"
   ]
  },
  {
   "cell_type": "markdown",
   "id": "91f3dde3",
   "metadata": {},
   "source": [
    "## Import Python libraries"
   ]
  },
  {
   "cell_type": "code",
   "execution_count": 39,
   "id": "a0515dec",
   "metadata": {},
   "outputs": [],
   "source": [
    "# Importing necessary libraries\n",
    "\n",
    "# Data handling\n",
    "import pandas as pd  # For working with datasets\n",
    "import numpy as np  # For numerical operations\n",
    "\n",
    "# Data visualization\n",
    "import matplotlib.pyplot as plt  # For plotting graphs\n",
    "import seaborn as sns  # For better visualizations\n",
    "\n",
    "# Preprocessing\n",
    "from sklearn.model_selection import train_test_split  # Splitting dataset into train & test sets\n",
    "from sklearn.preprocessing import LabelEncoder  # Encoding categorical labels\n",
    "from sklearn.preprocessing import label_binarize  # Converting labels into binary format\n",
    "from sklearn.preprocessing import MinMaxScaler  # Scaling feature values\n",
    "\n",
    "# Feature selection\n",
    "from sklearn.feature_selection import mutual_info_classif  # Measuring feature importance\n",
    "\n",
    "# Classification\n",
    "from sklearn.multiclass import OneVsRestClassifier  # Multi-class classification strategy\n",
    "from sklearn.ensemble import RandomForestClassifier  # Random Forest classifier\n",
    "\n",
    "# Performance metrics\n",
    "from sklearn.metrics import ConfusionMatrixDisplay  # Displaying confusion matrix\n",
    "from sklearn.metrics import balanced_accuracy_score, f1_score, precision_score, recall_score  # Performance evaluation\n",
    "from sklearn.metrics import classification_report  # Generating classification report\n",
    "from sklearn.metrics import confusion_matrix  # Creating confusion matrix\n",
    "# from sklearn.metrics import plot_confusion_matrix  # (Deprecated) Used for confusion matrix visualization\n",
    "from sklearn.metrics import roc_curve, auc  # Plotting ROC curve & calculating AUC\n",
    "from sklearn.metrics import roc_auc_score  # Calculating ROC-AUC score"
   ]
  },
  {
   "cell_type": "markdown",
   "id": "e214ad93",
   "metadata": {},
   "source": [
    "\n",
    "## Read Data, Data Exploration & Cleaning"
   ]
  },
  {
   "cell_type": "code",
   "execution_count": 40,
   "id": "18e48d71",
   "metadata": {
    "scrolled": true
   },
   "outputs": [
    {
     "data": {
      "text/html": [
       "<div>\n",
       "<style scoped>\n",
       "    .dataframe tbody tr th:only-of-type {\n",
       "        vertical-align: middle;\n",
       "    }\n",
       "\n",
       "    .dataframe tbody tr th {\n",
       "        vertical-align: top;\n",
       "    }\n",
       "\n",
       "    .dataframe thead th {\n",
       "        text-align: right;\n",
       "    }\n",
       "</style>\n",
       "<table border=\"1\" class=\"dataframe\">\n",
       "  <thead>\n",
       "    <tr style=\"text-align: right;\">\n",
       "      <th></th>\n",
       "      <th>gene_1</th>\n",
       "      <th>gene_2</th>\n",
       "      <th>gene_3</th>\n",
       "      <th>gene_4</th>\n",
       "      <th>gene_5</th>\n",
       "      <th>gene_6</th>\n",
       "      <th>gene_7</th>\n",
       "      <th>gene_8</th>\n",
       "      <th>gene_9</th>\n",
       "      <th>gene_10</th>\n",
       "      <th>...</th>\n",
       "      <th>gene_7992</th>\n",
       "      <th>gene_7993</th>\n",
       "      <th>gene_7994</th>\n",
       "      <th>gene_7995</th>\n",
       "      <th>gene_7996</th>\n",
       "      <th>gene_7997</th>\n",
       "      <th>gene_7998</th>\n",
       "      <th>gene_7999</th>\n",
       "      <th>gene_8000</th>\n",
       "      <th>Cancer_Type</th>\n",
       "    </tr>\n",
       "  </thead>\n",
       "  <tbody>\n",
       "    <tr>\n",
       "      <th>0</th>\n",
       "      <td>0.0</td>\n",
       "      <td>0.0</td>\n",
       "      <td>0.0</td>\n",
       "      <td>2.088413</td>\n",
       "      <td>0.0</td>\n",
       "      <td>0.0</td>\n",
       "      <td>0.0</td>\n",
       "      <td>0.0</td>\n",
       "      <td>0.550605</td>\n",
       "      <td>2.815760</td>\n",
       "      <td>...</td>\n",
       "      <td>11.558803</td>\n",
       "      <td>8.881802</td>\n",
       "      <td>6.014840</td>\n",
       "      <td>6.643534</td>\n",
       "      <td>11.740624</td>\n",
       "      <td>7.065012</td>\n",
       "      <td>9.932659</td>\n",
       "      <td>6.928584</td>\n",
       "      <td>2.088413</td>\n",
       "      <td>KIRC</td>\n",
       "    </tr>\n",
       "    <tr>\n",
       "      <th>1</th>\n",
       "      <td>0.0</td>\n",
       "      <td>0.0</td>\n",
       "      <td>0.0</td>\n",
       "      <td>3.205955</td>\n",
       "      <td>0.0</td>\n",
       "      <td>0.0</td>\n",
       "      <td>0.0</td>\n",
       "      <td>0.0</td>\n",
       "      <td>0.425244</td>\n",
       "      <td>2.354396</td>\n",
       "      <td>...</td>\n",
       "      <td>11.062829</td>\n",
       "      <td>9.032864</td>\n",
       "      <td>5.054193</td>\n",
       "      <td>6.432320</td>\n",
       "      <td>12.104985</td>\n",
       "      <td>7.300746</td>\n",
       "      <td>9.872796</td>\n",
       "      <td>5.039231</td>\n",
       "      <td>2.448002</td>\n",
       "      <td>KIRC</td>\n",
       "    </tr>\n",
       "    <tr>\n",
       "      <th>2</th>\n",
       "      <td>0.0</td>\n",
       "      <td>0.0</td>\n",
       "      <td>0.0</td>\n",
       "      <td>4.746646</td>\n",
       "      <td>0.0</td>\n",
       "      <td>0.0</td>\n",
       "      <td>0.0</td>\n",
       "      <td>0.0</td>\n",
       "      <td>2.639417</td>\n",
       "      <td>1.657091</td>\n",
       "      <td>...</td>\n",
       "      <td>12.497640</td>\n",
       "      <td>7.198160</td>\n",
       "      <td>0.943434</td>\n",
       "      <td>7.371690</td>\n",
       "      <td>11.202356</td>\n",
       "      <td>8.426588</td>\n",
       "      <td>11.176890</td>\n",
       "      <td>3.119738</td>\n",
       "      <td>4.433988</td>\n",
       "      <td>BRCA</td>\n",
       "    </tr>\n",
       "    <tr>\n",
       "      <th>3</th>\n",
       "      <td>0.0</td>\n",
       "      <td>0.0</td>\n",
       "      <td>0.0</td>\n",
       "      <td>1.173191</td>\n",
       "      <td>0.0</td>\n",
       "      <td>0.0</td>\n",
       "      <td>0.0</td>\n",
       "      <td>0.0</td>\n",
       "      <td>1.527371</td>\n",
       "      <td>2.732899</td>\n",
       "      <td>...</td>\n",
       "      <td>11.261713</td>\n",
       "      <td>8.725676</td>\n",
       "      <td>6.300418</td>\n",
       "      <td>6.036451</td>\n",
       "      <td>11.732303</td>\n",
       "      <td>7.559469</td>\n",
       "      <td>9.596453</td>\n",
       "      <td>2.863046</td>\n",
       "      <td>3.380342</td>\n",
       "      <td>KIRC</td>\n",
       "    </tr>\n",
       "    <tr>\n",
       "      <th>4</th>\n",
       "      <td>0.0</td>\n",
       "      <td>0.0</td>\n",
       "      <td>0.0</td>\n",
       "      <td>1.366532</td>\n",
       "      <td>0.0</td>\n",
       "      <td>0.0</td>\n",
       "      <td>0.0</td>\n",
       "      <td>0.0</td>\n",
       "      <td>0.000000</td>\n",
       "      <td>3.388355</td>\n",
       "      <td>...</td>\n",
       "      <td>12.241965</td>\n",
       "      <td>7.685204</td>\n",
       "      <td>5.142948</td>\n",
       "      <td>6.355788</td>\n",
       "      <td>11.493950</td>\n",
       "      <td>8.139444</td>\n",
       "      <td>10.189256</td>\n",
       "      <td>6.544487</td>\n",
       "      <td>0.839395</td>\n",
       "      <td>COAD</td>\n",
       "    </tr>\n",
       "  </tbody>\n",
       "</table>\n",
       "<p>5 rows × 8001 columns</p>\n",
       "</div>"
      ],
      "text/plain": [
       "   gene_1  gene_2  gene_3    gene_4  gene_5  gene_6  gene_7  gene_8    gene_9  \\\n",
       "0     0.0     0.0     0.0  2.088413     0.0     0.0     0.0     0.0  0.550605   \n",
       "1     0.0     0.0     0.0  3.205955     0.0     0.0     0.0     0.0  0.425244   \n",
       "2     0.0     0.0     0.0  4.746646     0.0     0.0     0.0     0.0  2.639417   \n",
       "3     0.0     0.0     0.0  1.173191     0.0     0.0     0.0     0.0  1.527371   \n",
       "4     0.0     0.0     0.0  1.366532     0.0     0.0     0.0     0.0  0.000000   \n",
       "\n",
       "    gene_10  ...  gene_7992  gene_7993  gene_7994  gene_7995  gene_7996  \\\n",
       "0  2.815760  ...  11.558803   8.881802   6.014840   6.643534  11.740624   \n",
       "1  2.354396  ...  11.062829   9.032864   5.054193   6.432320  12.104985   \n",
       "2  1.657091  ...  12.497640   7.198160   0.943434   7.371690  11.202356   \n",
       "3  2.732899  ...  11.261713   8.725676   6.300418   6.036451  11.732303   \n",
       "4  3.388355  ...  12.241965   7.685204   5.142948   6.355788  11.493950   \n",
       "\n",
       "   gene_7997  gene_7998  gene_7999  gene_8000  Cancer_Type  \n",
       "0   7.065012   9.932659   6.928584   2.088413         KIRC  \n",
       "1   7.300746   9.872796   5.039231   2.448002         KIRC  \n",
       "2   8.426588  11.176890   3.119738   4.433988         BRCA  \n",
       "3   7.559469   9.596453   2.863046   3.380342         KIRC  \n",
       "4   8.139444  10.189256   6.544487   0.839395         COAD  \n",
       "\n",
       "[5 rows x 8001 columns]"
      ]
     },
     "execution_count": 40,
     "metadata": {},
     "output_type": "execute_result"
    }
   ],
   "source": [
    "# Load the dataset\n",
    "dataframe = pd.read_csv(\"/Volumes/Jagannath/Projects/Machine_learning/cancer_gene_expression.csv\")\n",
    "\n",
    "# Display the first few rows of the dataset\n",
    "dataframe.head()"
   ]
  },
  {
   "cell_type": "code",
   "execution_count": 41,
   "id": "3af28f09",
   "metadata": {},
   "outputs": [
    {
     "name": "stdout",
     "output_type": "stream",
     "text": [
      "Number of samples: 801\n",
      "Number of features: 8000\n"
     ]
    }
   ],
   "source": [
    "# Number of samples (rows) and features (columns)\n",
    "num_samples, num_features = dataframe.shape\n",
    "\n",
    "# The last column contains labels, so actual features are total columns - 1\n",
    "num_features -= 1  \n",
    "\n",
    "print(f\"Number of samples: {num_samples}\")\n",
    "print(f\"Number of features: {num_features}\")"
   ]
  },
  {
   "cell_type": "code",
   "execution_count": 42,
   "id": "7e833043",
   "metadata": {},
   "outputs": [
    {
     "name": "stdout",
     "output_type": "stream",
     "text": [
      "Index(['gene_1', 'gene_2', 'gene_3'], dtype='object')\n"
     ]
    }
   ],
   "source": [
    "# Display the first, second, and third column names\n",
    "print(dataframe.columns[0:3])"
   ]
  },
  {
   "cell_type": "code",
   "execution_count": 43,
   "id": "2aee3bf1",
   "metadata": {},
   "outputs": [
    {
     "data": {
      "text/plain": [
       "'Cancer_Type'"
      ]
     },
     "execution_count": 43,
     "metadata": {},
     "output_type": "execute_result"
    }
   ],
   "source": [
    "# Display the name of the last column (which contains the labels)\n",
    "dataframe.columns[-1]"
   ]
  },
  {
   "cell_type": "code",
   "execution_count": 44,
   "id": "229679e0",
   "metadata": {},
   "outputs": [
    {
     "name": "stdout",
     "output_type": "stream",
     "text": [
      "Columns with missing values: 0\n"
     ]
    }
   ],
   "source": [
    "# Check for missing values in each column\n",
    "datanul = dataframe.isnull().sum()  # Count missing values per column\n",
    "\n",
    "# Filter columns that have missing values\n",
    "g = [i for i in datanul if i > 0]\n",
    "\n",
    "# Print the number of columns that have missing values\n",
    "print('Columns with missing values: %d' % len(g))"
   ]
  },
  {
   "cell_type": "code",
   "execution_count": 45,
   "id": "d0560c5a",
   "metadata": {
    "scrolled": true
   },
   "outputs": [
    {
     "name": "stdout",
     "output_type": "stream",
     "text": [
      "Cancer_Type\n",
      "BRCA    300\n",
      "KIRC    146\n",
      "LUAD    141\n",
      "PRAD    136\n",
      "COAD     78\n",
      "Name: count, dtype: int64\n"
     ]
    }
   ],
   "source": [
    "# Count the number of occurrences of each cancer type (class/label)\n",
    "print(dataframe['Cancer_Type'].value_counts())"
   ]
  },
  {
   "cell_type": "markdown",
   "id": "046d64c6",
   "metadata": {},
   "source": [
    "Since there are 5 classes (cancer types) in the dataset, the value_counts() function gives the number of samples for each type. This helps in understanding class distribution, which is important for model training.\n",
    "\n",
    "If the dataset is imbalanced (i.e., some cancer types have significantly more samples than others), you might need to apply resampling techniques (oversampling, undersampling) or use weighted metrics during classification."
   ]
  },
  {
   "cell_type": "code",
   "execution_count": 46,
   "id": "93990c7a",
   "metadata": {
    "scrolled": false
   },
   "outputs": [
    {
     "data": {
      "image/png": "[encoded data removed]",
      "text/plain": [
       "<Figure size 800x500 with 1 Axes>"
      ]
     },
     "metadata": {},
     "output_type": "display_data"
    }
   ],
   "source": [
    "# Plot a bar chart to visualize the distribution of cancer types\n",
    "plt.figure(figsize=(8,5))  # Set figure size\n",
    "dataframe['Cancer_Type'].value_counts().plot(kind='bar')  # Create bar plot\n",
    "\n",
    "# Label the axes and add a title\n",
    "plt.xlabel(\"Cancer Type\")  # Label for x-axis\n",
    "plt.ylabel(\"Number of Samples\")  # Label for y-axis\n",
    "plt.title(\"Class Distribution of Cancer Types\")  # Title of the plot\n",
    "\n",
    "# Rotate x-axis labels for better visibility\n",
    "plt.xticks(rotation=45)\n",
    "\n",
    "# Show the plot\n",
    "plt.show()"
   ]
  },
  {
   "cell_type": "markdown",
   "id": "7a0e165b",
   "metadata": {},
   "source": [
    " \n",
    "## **Data preprocesing** \n",
    "This is done to put the data in an appropriate format before modelling\n"
   ]
  },
  {
   "cell_type": "code",
   "execution_count": 47,
   "id": "a13b9f51",
   "metadata": {},
   "outputs": [],
   "source": [
    "# Separate the feature values (X) from the class labels (y)\n",
    "# This is necessary because scikit-learn requires them to be separated before training a model\n",
    "\n",
    "X = dataframe.iloc[:, 0:-1]  # Select all columns except the last one as features\n",
    "y = dataframe.iloc[:, -1]  # Select the last column as the target (class labels)"
   ]
  },
  {
   "cell_type": "code",
   "execution_count": 11,
   "id": "4e704973",
   "metadata": {},
   "outputs": [
    {
     "data": {
      "text/plain": [
       "(801, 8000)"
      ]
     },
     "execution_count": 11,
     "metadata": {},
     "output_type": "execute_result"
    }
   ],
   "source": [
    "X.shape"
   ]
  },
  {
   "cell_type": "code",
   "execution_count": 12,
   "id": "27abe08d",
   "metadata": {},
   "outputs": [
    {
     "data": {
      "text/plain": [
       "(801,)"
      ]
     },
     "execution_count": 12,
     "metadata": {},
     "output_type": "execute_result"
    }
   ],
   "source": [
    "y.shape"
   ]
  },
  {
   "cell_type": "markdown",
   "id": "264a01cb",
   "metadata": {},
   "source": [
    "Encoding Labels\n",
    "\n",
    "Since the labels in this dataset are categorical, we need to convert them into numeric values. This process is called encoding. Machine learning models typically require numerical inputs, so we encode the labels to ensure compatibility."
   ]
  },
  {
   "cell_type": "code",
   "execution_count": 48,
   "id": "b251f08b",
   "metadata": {},
   "outputs": [],
   "source": [
    "# Encode target labels (y) into numeric values ranging from 0 to (n_classes - 1)\n",
    "# We use LabelEncoder for this process\n",
    "\n",
    "label_encoder = LabelEncoder()  # Initialize the encoder\n",
    "label_encoder.fit(y)  # Fit the encoder to the target labels\n",
    "y_encoded = label_encoder.transform(y)  # Transform categorical labels into numeric values\n",
    "\n",
    "# Get the list of unique class labels\n",
    "labels = label_encoder.classes_  # Original class names\n",
    "classes = np.unique(y_encoded)  # Encoded class labels"
   ]
  },
  {
   "cell_type": "code",
   "execution_count": 14,
   "id": "4769ffe6",
   "metadata": {},
   "outputs": [
    {
     "data": {
      "text/plain": [
       "array(['BRCA', 'COAD', 'KIRC', 'LUAD', 'PRAD'], dtype=object)"
      ]
     },
     "execution_count": 14,
     "metadata": {},
     "output_type": "execute_result"
    }
   ],
   "source": [
    "labels"
   ]
  },
  {
   "cell_type": "code",
   "execution_count": 15,
   "id": "8a567de8",
   "metadata": {},
   "outputs": [
    {
     "data": {
      "text/plain": [
       "array([0, 1, 2, 3, 4])"
      ]
     },
     "execution_count": 15,
     "metadata": {},
     "output_type": "execute_result"
    }
   ],
   "source": [
    "classes"
   ]
  },
  {
   "cell_type": "markdown",
   "id": "5f68c4f6",
   "metadata": {},
   "source": [
    "\\\n",
    "**Data Splitting**\\\n",
    "We will now split the data into training and test subsets.\n",
    "The training data is initially parsed to the machine learning model. this is to enable the model to identify discriminatory patterns which can be used to make future predictions.\n",
    "The testing data is used to evaluate the model after the training phase."
   ]
  },
  {
   "cell_type": "code",
   "execution_count": 49,
   "id": "6fada994",
   "metadata": {},
   "outputs": [],
   "source": [
    "# Split the data into training and test sets\n",
    "# This helps evaluate model performance on unseen data\n",
    "\n",
    "X_train, X_test, y_train, y_test = train_test_split(\n",
    "    X, y_encoded,  # Features and encoded labels\n",
    "    test_size=0.2,  # 20% of the data will be used for testing\n",
    "    random_state=42  # Set a random state for reproducibility\n",
    ")"
   ]
  },
  {
   "cell_type": "code",
   "execution_count": 50,
   "id": "372d07b0",
   "metadata": {},
   "outputs": [],
   "source": [
    "# or\n",
    "\n",
    "#split data into training and test sets\n",
    "X_train,X_test,y_train,y_test=train_test_split(X,y_encoded,test_size=0.2,random_state=42)"
   ]
  },
  {
   "cell_type": "code",
   "execution_count": 17,
   "id": "0220413f",
   "metadata": {},
   "outputs": [
    {
     "data": {
      "text/html": [
       "<div>\n",
       "<style scoped>\n",
       "    .dataframe tbody tr th:only-of-type {\n",
       "        vertical-align: middle;\n",
       "    }\n",
       "\n",
       "    .dataframe tbody tr th {\n",
       "        vertical-align: top;\n",
       "    }\n",
       "\n",
       "    .dataframe thead th {\n",
       "        text-align: right;\n",
       "    }\n",
       "</style>\n",
       "<table border=\"1\" class=\"dataframe\">\n",
       "  <thead>\n",
       "    <tr style=\"text-align: right;\">\n",
       "      <th></th>\n",
       "      <th>gene_1</th>\n",
       "      <th>gene_2</th>\n",
       "      <th>gene_3</th>\n",
       "      <th>gene_4</th>\n",
       "      <th>gene_5</th>\n",
       "      <th>gene_6</th>\n",
       "      <th>gene_7</th>\n",
       "      <th>gene_8</th>\n",
       "      <th>gene_9</th>\n",
       "      <th>gene_10</th>\n",
       "    </tr>\n",
       "  </thead>\n",
       "  <tbody>\n",
       "    <tr>\n",
       "      <th>count</th>\n",
       "      <td>801.000000</td>\n",
       "      <td>801.000000</td>\n",
       "      <td>801.000000</td>\n",
       "      <td>801.000000</td>\n",
       "      <td>801.000000</td>\n",
       "      <td>801.000000</td>\n",
       "      <td>801.000000</td>\n",
       "      <td>801.000000</td>\n",
       "      <td>801.000000</td>\n",
       "      <td>801.000000</td>\n",
       "    </tr>\n",
       "    <tr>\n",
       "      <th>mean</th>\n",
       "      <td>0.026642</td>\n",
       "      <td>0.231049</td>\n",
       "      <td>0.010844</td>\n",
       "      <td>2.405459</td>\n",
       "      <td>0.005799</td>\n",
       "      <td>0.065640</td>\n",
       "      <td>0.022036</td>\n",
       "      <td>0.028394</td>\n",
       "      <td>0.703998</td>\n",
       "      <td>1.916364</td>\n",
       "    </tr>\n",
       "    <tr>\n",
       "      <th>std</th>\n",
       "      <td>0.136850</td>\n",
       "      <td>0.656692</td>\n",
       "      <td>0.153859</td>\n",
       "      <td>0.797236</td>\n",
       "      <td>0.052265</td>\n",
       "      <td>0.213557</td>\n",
       "      <td>0.148917</td>\n",
       "      <td>0.161606</td>\n",
       "      <td>0.779321</td>\n",
       "      <td>0.877010</td>\n",
       "    </tr>\n",
       "    <tr>\n",
       "      <th>min</th>\n",
       "      <td>0.000000</td>\n",
       "      <td>0.000000</td>\n",
       "      <td>0.000000</td>\n",
       "      <td>0.000000</td>\n",
       "      <td>0.000000</td>\n",
       "      <td>0.000000</td>\n",
       "      <td>0.000000</td>\n",
       "      <td>0.000000</td>\n",
       "      <td>0.000000</td>\n",
       "      <td>0.000000</td>\n",
       "    </tr>\n",
       "    <tr>\n",
       "      <th>25%</th>\n",
       "      <td>0.000000</td>\n",
       "      <td>0.000000</td>\n",
       "      <td>0.000000</td>\n",
       "      <td>1.898595</td>\n",
       "      <td>0.000000</td>\n",
       "      <td>0.000000</td>\n",
       "      <td>0.000000</td>\n",
       "      <td>0.000000</td>\n",
       "      <td>0.000000</td>\n",
       "      <td>1.357214</td>\n",
       "    </tr>\n",
       "    <tr>\n",
       "      <th>50%</th>\n",
       "      <td>0.000000</td>\n",
       "      <td>0.000000</td>\n",
       "      <td>0.000000</td>\n",
       "      <td>2.358284</td>\n",
       "      <td>0.000000</td>\n",
       "      <td>0.000000</td>\n",
       "      <td>0.000000</td>\n",
       "      <td>0.000000</td>\n",
       "      <td>0.518031</td>\n",
       "      <td>1.877862</td>\n",
       "    </tr>\n",
       "    <tr>\n",
       "      <th>75%</th>\n",
       "      <td>0.000000</td>\n",
       "      <td>0.000000</td>\n",
       "      <td>0.000000</td>\n",
       "      <td>2.929355</td>\n",
       "      <td>0.000000</td>\n",
       "      <td>0.000000</td>\n",
       "      <td>0.000000</td>\n",
       "      <td>0.000000</td>\n",
       "      <td>1.123931</td>\n",
       "      <td>2.486792</td>\n",
       "    </tr>\n",
       "    <tr>\n",
       "      <th>max</th>\n",
       "      <td>1.482332</td>\n",
       "      <td>6.575004</td>\n",
       "      <td>3.778061</td>\n",
       "      <td>4.746646</td>\n",
       "      <td>0.570754</td>\n",
       "      <td>1.866275</td>\n",
       "      <td>2.169925</td>\n",
       "      <td>2.375957</td>\n",
       "      <td>4.541670</td>\n",
       "      <td>4.932231</td>\n",
       "    </tr>\n",
       "  </tbody>\n",
       "</table>\n",
       "</div>"
      ],
      "text/plain": [
       "           gene_1      gene_2      gene_3      gene_4      gene_5      gene_6  \\\n",
       "count  801.000000  801.000000  801.000000  801.000000  801.000000  801.000000   \n",
       "mean     0.026642    0.231049    0.010844    2.405459    0.005799    0.065640   \n",
       "std      0.136850    0.656692    0.153859    0.797236    0.052265    0.213557   \n",
       "min      0.000000    0.000000    0.000000    0.000000    0.000000    0.000000   \n",
       "25%      0.000000    0.000000    0.000000    1.898595    0.000000    0.000000   \n",
       "50%      0.000000    0.000000    0.000000    2.358284    0.000000    0.000000   \n",
       "75%      0.000000    0.000000    0.000000    2.929355    0.000000    0.000000   \n",
       "max      1.482332    6.575004    3.778061    4.746646    0.570754    1.866275   \n",
       "\n",
       "           gene_7      gene_8      gene_9     gene_10  \n",
       "count  801.000000  801.000000  801.000000  801.000000  \n",
       "mean     0.022036    0.028394    0.703998    1.916364  \n",
       "std      0.148917    0.161606    0.779321    0.877010  \n",
       "min      0.000000    0.000000    0.000000    0.000000  \n",
       "25%      0.000000    0.000000    0.000000    1.357214  \n",
       "50%      0.000000    0.000000    0.518031    1.877862  \n",
       "75%      0.000000    0.000000    1.123931    2.486792  \n",
       "max      2.169925    2.375957    4.541670    4.932231  "
      ]
     },
     "execution_count": 17,
     "metadata": {},
     "output_type": "execute_result"
    }
   ],
   "source": [
    "dataframe.iloc[:,0:10].describe()"
   ]
  },
  {
   "cell_type": "markdown",
   "id": "0d1c8d5e",
   "metadata": {},
   "source": [
    "\\\n",
    "**Data Normalization**\\\n",
    "Data normalization is done so that the values are in the same range. This will improve model performance and avoid bias"
   ]
  },
  {
   "cell_type": "code",
   "execution_count": 51,
   "id": "909e93b4",
   "metadata": {},
   "outputs": [],
   "source": [
    "# Scale the feature values between 0 and 1\n",
    "# This ensures that all features have the same scale, improving model performance\n",
    "\n",
    "min_max_scaler = MinMaxScaler()  # Initialize the scaler\n",
    "\n",
    "# Normalize the training and test sets\n",
    "X_train_norm = min_max_scaler.fit_transform(X_train)  # Fit and transform training data\n",
    "X_test_norm = min_max_scaler.transform(X_test)  # Transform test data (without fitting again)"
   ]
  },
  {
   "cell_type": "markdown",
   "id": "7a1736a7",
   "metadata": {},
   "source": [
    "  "
   ]
  },
  {
   "cell_type": "markdown",
   "id": "2127f034",
   "metadata": {},
   "source": [
    "## **Feature Selection**\n",
    "The purpose of feature selection is to select relevant features for classification. \n",
    "Feature selection is usually used as a pre-processing step before doing the actual learning. \n",
    "\n",
    "In this tutorial, mutual information algorithm is used to compute the relevance of each feature. The top n (eg. 300) features are selected for the machine learning analysis."
   ]
  },
  {
   "cell_type": "markdown",
   "id": "4665aa65",
   "metadata": {},
   "source": [
    "### Feature Selection using Mutual Information"
   ]
  },
  {
   "cell_type": "code",
   "execution_count": 20,
   "id": "fe32fd84",
   "metadata": {},
   "outputs": [],
   "source": [
    "MI=mutual_info_classif(X_train_norm,y_train)"
   ]
  },
  {
   "cell_type": "code",
   "execution_count": 21,
   "id": "697d3a17",
   "metadata": {},
   "outputs": [],
   "source": [
    "#select top n features. lets say 300.\n",
    "#you can modify the value and see how the performance of the model changes\n",
    "\n",
    "n_features=300\n",
    "selected_scores_indices=np.argsort(MI)[::-1][0:n_features]"
   ]
  },
  {
   "cell_type": "code",
   "execution_count": 22,
   "id": "45740745",
   "metadata": {},
   "outputs": [],
   "source": [
    "X_train_selected=X_train_norm[:,selected_scores_indices]\n",
    "X_test_selected=X_test_norm[:,selected_scores_indices]"
   ]
  },
  {
   "cell_type": "code",
   "execution_count": 23,
   "id": "a27f5b7f",
   "metadata": {},
   "outputs": [
    {
     "data": {
      "text/plain": [
       "(640, 300)"
      ]
     },
     "execution_count": 23,
     "metadata": {},
     "output_type": "execute_result"
    }
   ],
   "source": [
    "X_train_selected.shape"
   ]
  },
  {
   "cell_type": "code",
   "execution_count": 24,
   "id": "49e45da0",
   "metadata": {},
   "outputs": [
    {
     "data": {
      "text/plain": [
       "(161, 300)"
      ]
     },
     "execution_count": 24,
     "metadata": {},
     "output_type": "execute_result"
    }
   ],
   "source": [
    "X_test_selected.shape"
   ]
  },
  {
   "cell_type": "markdown",
   "id": "58c6d53d",
   "metadata": {},
   "source": [
    "## Classification\n",
    "The random forest classifier is used in this tutorial. Random forest works with multiclass and high dimensional data. Classification will involve training and testing of the model"
   ]
  },
  {
   "cell_type": "markdown",
   "id": "c0f0ba2c",
   "metadata": {},
   "source": [
    "Model Training\n",
    "\n",
    "Model training enables the machine learning model to learn patterns from the data and make predictions on unseen data. During this phase, the model is provided with a training subset to learn from. In this tutorial, we use the Random Forest Classifier for training."
   ]
  },
  {
   "cell_type": "code",
   "execution_count": 52,
   "id": "2b622ef8",
   "metadata": {},
   "outputs": [],
   "source": [
    "# Random Forest Classifier\n",
    "# Since this is a multiclass classification problem, we use the One-vs-Rest (OvR) strategy\n",
    "# This approach trains a separate classifier for each class, treating it as a binary classification problem\n",
    "\n",
    "RF = OneVsRestClassifier(RandomForestClassifier(max_features=0.2))  # Initialize the model\n",
    "RF.fit(X_train_selected, y_train)  # Train the model on the selected features\n",
    "\n",
    "# Make predictions on the test set\n",
    "y_pred = RF.predict(X_test_selected)  # Predict class labels\n",
    "pred_prob = RF.predict_proba(X_test_selected)  # Get predicted probabilities for each class"
   ]
  },
  {
   "cell_type": "markdown",
   "id": "8a796a80",
   "metadata": {},
   "source": [
    "### Model Evaluation\n",
    "\n",
    "Once the model is trained, it is essential to assess its performance on independent data (i.e., the test set). To evaluate the model effectively, we use the following metrics:\n",
    "\t•\tAccuracy – Measures overall correctness of predictions.\n",
    "\t•\tPrecision – Indicates how many of the predicted positive cases were actually positive.\n",
    "\t•\tRecall – Measures how well the model identifies actual positive cases.\n",
    "\t•\tF1 Score – A balance between precision and recall.\n",
    "\t•\tConfusion Matrix – Provides insights into correct and incorrect classifications.\n",
    "\t•\tROC Curve – Shows the trade-off between sensitivity and specificity across different thresholds.\n"
   ]
  },
  {
   "cell_type": "code",
   "execution_count": 53,
   "id": "f74ae2bb",
   "metadata": {
    "scrolled": true
   },
   "outputs": [
    {
     "name": "stdout",
     "output_type": "stream",
     "text": [
      "Accuracy: 0.9708\n",
      "Precision: 0.9815\n",
      "Recall: 0.9814\n",
      "F1 Score: 0.9812\n",
      "\n",
      "Classification Report\n",
      "\n",
      "              precision    recall  f1-score   support\n",
      "\n",
      "        BRCA       0.97      1.00      0.98        60\n",
      "        COAD       1.00      0.94      0.97        16\n",
      "        KIRC       1.00      1.00      1.00        28\n",
      "        LUAD       0.96      0.92      0.94        24\n",
      "        PRAD       1.00      1.00      1.00        33\n",
      "\n",
      "    accuracy                           0.98       161\n",
      "   macro avg       0.98      0.97      0.98       161\n",
      "weighted avg       0.98      0.98      0.98       161\n",
      "\n"
     ]
    }
   ],
   "source": [
    "# Calculate and display model evaluation metrics\n",
    "\n",
    "# Accuracy: Measures the overall correctness of predictions\n",
    "accuracy = np.round(balanced_accuracy_score(y_test, y_pred), 4)\n",
    "print('Accuracy: %0.4f' % accuracy)\n",
    "\n",
    "# Precision: Measures the proportion of correctly predicted positive cases\n",
    "precision = np.round(precision_score(y_test, y_pred, average='weighted'), 4)\n",
    "print('Precision: %0.4f' % precision)\n",
    "\n",
    "# Recall: Measures how well the model identifies actual positive cases\n",
    "recall = np.round(recall_score(y_test, y_pred, average='weighted'), 4)\n",
    "print('Recall: %0.4f' % recall)\n",
    "\n",
    "# F1 Score: A balance between precision and recall\n",
    "f1score = np.round(f1_score(y_test, y_pred, average='weighted'), 4)\n",
    "print('F1 Score: %0.4f' % f1score)\n",
    "\n",
    "# Generate and display the classification report\n",
    "report = classification_report(y_test, y_pred, target_names=labels)\n",
    "print('\\nClassification Report\\n')\n",
    "print(report)"
   ]
  },
  {
   "cell_type": "code",
   "execution_count": 54,
   "id": "dbb3ea3e",
   "metadata": {
    "scrolled": false
   },
   "outputs": [],
   "source": [
    "# Generate the confusion matrix\n",
    "cm = confusion_matrix(y_test, y_pred)  # Compute confusion matrix\n",
    "\n",
    "# Convert it into a DataFrame for better readability\n",
    "cm_df = pd.DataFrame(cm, index=labels, columns=labels)  # Set row and column labels"
   ]
  },
  {
   "cell_type": "code",
   "execution_count": 29,
   "id": "4c3dc4bb",
   "metadata": {
    "scrolled": false
   },
   "outputs": [
    {
     "data": {
      "text/html": [
       "<div>\n",
       "<style scoped>\n",
       "    .dataframe tbody tr th:only-of-type {\n",
       "        vertical-align: middle;\n",
       "    }\n",
       "\n",
       "    .dataframe tbody tr th {\n",
       "        vertical-align: top;\n",
       "    }\n",
       "\n",
       "    .dataframe thead th {\n",
       "        text-align: right;\n",
       "    }\n",
       "</style>\n",
       "<table border=\"1\" class=\"dataframe\">\n",
       "  <thead>\n",
       "    <tr style=\"text-align: right;\">\n",
       "      <th></th>\n",
       "      <th>BRCA</th>\n",
       "      <th>COAD</th>\n",
       "      <th>KIRC</th>\n",
       "      <th>LUAD</th>\n",
       "      <th>PRAD</th>\n",
       "    </tr>\n",
       "  </thead>\n",
       "  <tbody>\n",
       "    <tr>\n",
       "      <th>BRCA</th>\n",
       "      <td>60</td>\n",
       "      <td>0</td>\n",
       "      <td>0</td>\n",
       "      <td>0</td>\n",
       "      <td>0</td>\n",
       "    </tr>\n",
       "    <tr>\n",
       "      <th>COAD</th>\n",
       "      <td>1</td>\n",
       "      <td>14</td>\n",
       "      <td>0</td>\n",
       "      <td>1</td>\n",
       "      <td>0</td>\n",
       "    </tr>\n",
       "    <tr>\n",
       "      <th>KIRC</th>\n",
       "      <td>0</td>\n",
       "      <td>0</td>\n",
       "      <td>28</td>\n",
       "      <td>0</td>\n",
       "      <td>0</td>\n",
       "    </tr>\n",
       "    <tr>\n",
       "      <th>LUAD</th>\n",
       "      <td>1</td>\n",
       "      <td>0</td>\n",
       "      <td>0</td>\n",
       "      <td>23</td>\n",
       "      <td>0</td>\n",
       "    </tr>\n",
       "    <tr>\n",
       "      <th>PRAD</th>\n",
       "      <td>0</td>\n",
       "      <td>0</td>\n",
       "      <td>0</td>\n",
       "      <td>0</td>\n",
       "      <td>33</td>\n",
       "    </tr>\n",
       "  </tbody>\n",
       "</table>\n",
       "</div>"
      ],
      "text/plain": [
       "      BRCA  COAD  KIRC  LUAD  PRAD\n",
       "BRCA    60     0     0     0     0\n",
       "COAD     1    14     0     1     0\n",
       "KIRC     0     0    28     0     0\n",
       "LUAD     1     0     0    23     0\n",
       "PRAD     0     0     0     0    33"
      ]
     },
     "execution_count": 29,
     "metadata": {},
     "output_type": "execute_result"
    }
   ],
   "source": [
    "cm_df"
   ]
  },
  {
   "cell_type": "code",
   "execution_count": 55,
   "id": "a15b3c16",
   "metadata": {
    "scrolled": true
   },
   "outputs": [
    {
     "data": {
      "image/png": "[encoded data removed]",
      "text/plain": [
       "<Figure size 640x480 with 2 Axes>"
      ]
     },
     "metadata": {},
     "output_type": "display_data"
    }
   ],
   "source": [
    "# Visualize the confusion matrix using a heatmap\n",
    "\n",
    "sns.heatmap(cm_df, annot=True, cmap='Blues')  # Create heatmap with annotations\n",
    "plt.xlabel('Predicted Labels')  # Label for x-axis\n",
    "plt.ylabel('True Labels')  # Label for y-axis\n",
    "plt.title('Confusion Matrix')  # Title for the plot\n",
    "\n",
    "# Show the plot\n",
    "plt.show()"
   ]
  },
  {
   "cell_type": "code",
   "execution_count": 56,
   "id": "5dac2ad7",
   "metadata": {
    "scrolled": false
   },
   "outputs": [
    {
     "data": {
      "image/png": "[encoded data removed]",
      "text/plain": [
       "<Figure size 640x480 with 2 Axes>"
      ]
     },
     "metadata": {},
     "output_type": "display_data"
    }
   ],
   "source": [
    "from sklearn.metrics import confusion_matrix, ConfusionMatrixDisplay\n",
    "\n",
    "# Compute the confusion matrix\n",
    "cm = confusion_matrix(y_test, RF.predict(X_test_selected))  # Generate confusion matrix\n",
    "\n",
    "# Display the confusion matrix\n",
    "disp = ConfusionMatrixDisplay(confusion_matrix=cm, display_labels=labels)  # Initialize display\n",
    "disp.plot(xticks_rotation='vertical', cmap='Blues')  # Plot with vertical x-axis labels and blue color map\n",
    "\n",
    "# Show the plot\n",
    "plt.show()"
   ]
  },
  {
   "cell_type": "code",
   "execution_count": 57,
   "id": "51bd75b7",
   "metadata": {
    "scrolled": true
   },
   "outputs": [
    {
     "data": {
      "image/png": "[encoded data removed]",
      "text/plain": [
       "<Figure size 640x480 with 1 Axes>"
      ]
     },
     "metadata": {},
     "output_type": "display_data"
    }
   ],
   "source": [
    "# Generate ROC curves for each class\n",
    "# We need to binarize y_test labels to match the format of predicted probabilities (pred_prob)\n",
    "\n",
    "y_test_binarized = label_binarize(y_test, classes=classes)  # Convert y_test into binary format\n",
    "\n",
    "# Initialize dictionaries to store metrics for each class\n",
    "fpr = {}  # False Positive Rate\n",
    "tpr = {}  # True Positive Rate\n",
    "thresh = {}  # Thresholds\n",
    "roc_auc = {}  # Area Under the Curve (AUC)\n",
    "\n",
    "n_class = classes.shape[0]  # Number of classes\n",
    "\n",
    "# Compute ROC curve for each class\n",
    "for i in range(n_class):    \n",
    "    fpr[i], tpr[i], thresh[i] = roc_curve(y_test_binarized[:, i], pred_prob[:, i])  # Calculate FPR, TPR, and thresholds\n",
    "    roc_auc[i] = auc(fpr[i], tpr[i])  # Compute AUC score\n",
    "    \n",
    "    # Plot ROC curve for each class\n",
    "    plt.plot(fpr[i], tpr[i], linestyle='--', \n",
    "             label='%s vs Rest (AUC=%0.2f)' % (labels[i], roc_auc[i]))\n",
    "\n",
    "# Plot the diagonal reference line\n",
    "plt.plot([0, 1], [0, 1], 'b--')\n",
    "\n",
    "# Set axis limits\n",
    "plt.xlim([0, 1])\n",
    "plt.ylim([0, 1.05])\n",
    "\n",
    "# Add labels and title\n",
    "plt.title('Multiclass ROC Curve')\n",
    "plt.xlabel('False Positive Rate')\n",
    "plt.ylabel('True Positive Rate')\n",
    "plt.legend(loc='lower right')  # Show legend in lower right corner\n",
    "\n",
    "# Display the plot\n",
    "plt.show()"
   ]
  }
 ],
 "metadata": {
  "kernelspec": {
   "display_name": "base",
   "language": "python",
   "name": "python3"
  },
  "language_info": {
   "codemirror_mode": {
    "name": "ipython",
    "version": 3
   },
   "file_extension": ".py",
   "mimetype": "text/x-python",
   "name": "python",
   "nbconvert_exporter": "python",
   "pygments_lexer": "ipython3",
   "version": "3.11.8"
  }
 },
 "nbformat": 4,
 "nbformat_minor": 5
}
